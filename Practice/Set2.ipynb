{
 "cells": [
  {
   "cell_type": "code",
   "execution_count": 1,
   "metadata": {},
   "outputs": [],
   "source": [
    "words=['ashu', 'sharma', 'krishna', 'shyam', 'radha', 'mahesh', 'vishnu', 'bramha']"
   ]
  },
  {
   "cell_type": "code",
   "execution_count": 2,
   "metadata": {},
   "outputs": [
    {
     "name": "stdout",
     "output_type": "stream",
     "text": [
      "ashu sharma krishna shyam radha mahesh vishnu bramha "
     ]
    }
   ],
   "source": [
    "for word in words:\n",
    "    print(word, end=\" \")"
   ]
  },
  {
   "cell_type": "code",
   "execution_count": 3,
   "metadata": {},
   "outputs": [
    {
     "name": "stdout",
     "output_type": "stream",
     "text": [
      "3 is prime number\n",
      "4 equals to 2 * 2\n",
      "5 is prime number\n",
      "5 is prime number\n",
      "5 is prime number\n",
      "6 equals to 2 * 3\n",
      "7 is prime number\n",
      "7 is prime number\n",
      "7 is prime number\n",
      "7 is prime number\n",
      "7 is prime number\n",
      "8 equals to 2 * 4\n",
      "9 is prime number\n",
      "9 equals to 3 * 3\n",
      "10 equals to 2 * 5\n",
      "11 is prime number\n",
      "11 is prime number\n",
      "11 is prime number\n",
      "11 is prime number\n",
      "11 is prime number\n",
      "11 is prime number\n",
      "11 is prime number\n",
      "11 is prime number\n",
      "11 is prime number\n",
      "12 equals to 2 * 6\n",
      "13 is prime number\n",
      "13 is prime number\n",
      "13 is prime number\n",
      "13 is prime number\n",
      "13 is prime number\n",
      "13 is prime number\n",
      "13 is prime number\n",
      "13 is prime number\n",
      "13 is prime number\n",
      "13 is prime number\n",
      "13 is prime number\n",
      "14 equals to 2 * 7\n",
      "15 is prime number\n",
      "15 equals to 3 * 5\n",
      "16 equals to 2 * 8\n",
      "17 is prime number\n",
      "17 is prime number\n",
      "17 is prime number\n",
      "17 is prime number\n",
      "17 is prime number\n",
      "17 is prime number\n",
      "17 is prime number\n",
      "17 is prime number\n",
      "17 is prime number\n",
      "17 is prime number\n",
      "17 is prime number\n",
      "17 is prime number\n",
      "17 is prime number\n",
      "17 is prime number\n",
      "17 is prime number\n",
      "18 equals to 2 * 9\n",
      "19 is prime number\n",
      "19 is prime number\n",
      "19 is prime number\n",
      "19 is prime number\n",
      "19 is prime number\n",
      "19 is prime number\n",
      "19 is prime number\n",
      "19 is prime number\n",
      "19 is prime number\n",
      "19 is prime number\n",
      "19 is prime number\n",
      "19 is prime number\n",
      "19 is prime number\n",
      "19 is prime number\n",
      "19 is prime number\n",
      "19 is prime number\n",
      "19 is prime number\n"
     ]
    }
   ],
   "source": [
    "for i in range(2,20):\n",
    "    for j in range(2,i):\n",
    "        if i%j==0:\n",
    "            print(i, 'equals to', j, '*', i//j)\n",
    "            break\n",
    "        print(i, 'is prime number')"
   ]
  },
  {
   "cell_type": "code",
   "execution_count": 4,
   "metadata": {},
   "outputs": [
    {
     "name": "stdout",
     "output_type": "stream",
     "text": [
      "A\n",
      "s\n",
      "h\n",
      "u\n",
      "t\n",
      "o\n",
      "s\n",
      "h\n"
     ]
    }
   ],
   "source": [
    "name=\"Ashutosh\"\n",
    "for i in name:\n",
    "    print(i)"
   ]
  },
  {
   "cell_type": "code",
   "execution_count": 5,
   "metadata": {},
   "outputs": [
    {
     "name": "stdout",
     "output_type": "stream",
     "text": [
      "A\n",
      "u\n",
      "t\n",
      "o\n"
     ]
    }
   ],
   "source": [
    "for i in name:\n",
    "    if name.count(i)==1:\n",
    "        print(i)"
   ]
  },
  {
   "cell_type": "code",
   "execution_count": null,
   "metadata": {},
   "outputs": [],
   "source": []
  }
 ],
 "metadata": {
  "kernelspec": {
   "display_name": "Python 3",
   "language": "python",
   "name": "python3"
  },
  "language_info": {
   "codemirror_mode": {
    "name": "ipython",
    "version": 3
   },
   "file_extension": ".py",
   "mimetype": "text/x-python",
   "name": "python",
   "nbconvert_exporter": "python",
   "pygments_lexer": "ipython3",
   "version": "3.13.1"
  }
 },
 "nbformat": 4,
 "nbformat_minor": 2
}
